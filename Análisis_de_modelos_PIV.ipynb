{
  "nbformat": 4,
  "nbformat_minor": 0,
  "metadata": {
    "colab": {
      "name": "Análisis de modelos PIV.ipynb",
      "provenance": [],
      "collapsed_sections": [],
      "toc_visible": true,
      "authorship_tag": "ABX9TyOa/TLQlfC0KpAxHfFoRyhP",
      "include_colab_link": true
    },
    "kernelspec": {
      "display_name": "Python 3",
      "name": "python3"
    }
  },
  "cells": [
    {
      "cell_type": "markdown",
      "metadata": {
        "id": "view-in-github",
        "colab_type": "text"
      },
      "source": [
        "<a href=\"https://colab.research.google.com/github/TJ-Solergibert/Analisis-modelos-PIV/blob/main/An%C3%A1lisis_de_modelos_PIV.ipynb\" target=\"_parent\"><img src=\"https://colab.research.google.com/assets/colab-badge.svg\" alt=\"Open In Colab\"/></a>"
      ]
    },
    {
      "cell_type": "markdown",
      "metadata": {
        "id": "4flBEvmWxMhv"
      },
      "source": [
        "#Análisis de modelos PIV\n"
      ]
    },
    {
      "cell_type": "markdown",
      "metadata": {
        "id": "FJa9TpSD8XQk"
      },
      "source": [
        "##Introducción"
      ]
    },
    {
      "cell_type": "markdown",
      "metadata": {
        "id": "2dqiOEblV6cN"
      },
      "source": [
        "Esto es un Notebook creado para optimizar los modelos desarrollados correspondientes al proyecto \"Prog0\" de la asignatura de PIV. En el se encuentran varias herramientas para analizar el rendimiento de los modelos creados a partir de los archivos generados con los resultados del modelo en formato *.txt*. "
      ]
    },
    {
      "cell_type": "markdown",
      "metadata": {
        "id": "H2qgUPuKYvTc"
      },
      "source": [
        "**Aspectos a tener en cuenta:**\n",
        "\n",
        "*   El Notebook esta adaptado para trabajar con ficheros *.txt* con la misma estructura que el entregado como ejemplo por la universidad (En Atenea PIV > Prog01 > Test > output.txt). En resumen, el modelo ha de generar un archivo *.txt* con 12 lineas por query: La primera el título de la query, seguida de las 10 predicciones (1 por linea) y una línea en blanco. Si no se respeta esta estructura es posible que el programa falle.\n",
        "*   El programa tiene un mecanismo para detectar cuantas querys contiene el fichero *.txt*. Esto quiere decir que puedes procesar simultaneamente los outputs de varios modelos con distinto número de querys.\n",
        "*   En caso de detectar algún error o querer formular alguna sugerencia no dudes en ponerte en contacto conmigo a traves de la siguiente dirección de correo electrónico: **antoni-joan.solergibert@estudiantat.upc.edu**\n",
        "\n",
        "\n",
        "\n"
      ]
    },
    {
      "cell_type": "markdown",
      "metadata": {
        "id": "rMMBaTt6a_uX"
      },
      "source": [
        "**Mejoras**\n",
        "\n",
        "*   Implantar una función que muestre por pantalla las imagenes que mas ha confundido para poder analizarlas mejor\n",
        "\n"
      ]
    },
    {
      "cell_type": "markdown",
      "metadata": {
        "id": "YYUZlPxhbxlF"
      },
      "source": [
        "##Código"
      ]
    },
    {
      "cell_type": "markdown",
      "metadata": {
        "id": "jIuHt_LfcJIN"
      },
      "source": [
        "En los siguientes apartados se encuentra todo el código. Gran parte de el esta acompañado de diferentes anotaciones.\n",
        "\n",
        "\n",
        "1.   Ejecutamos la celda correspondiente al apartado \"Librerias y config\" para importar las librerias que utilizará el programa.\n",
        "\n",
        "2.   Ejecutamos la celda correspondiente al apartado \"Importar archivos\". Al ejecutarla aparecerá un botón para seleccionar los archivos que procesará el programa. Si indagamos un poco por GoogleColab, a la izquierda se encuntra el menú de archivos del proyecto. Una vez subidos los archivos debería aparecer una carpeta llamada \"Outputs\" con los archivos que hemos subido. Tambien es posible subirlos de forma manual.\n",
        " \n",
        "3.   Ejecutamos las celdas correspondientes al apartado \"Funciones Auxiliares\". En este apartado se ecnuentran varias funciones que se han desarrollado con sus respectivas descripciones. \n",
        "\n",
        "4.   Ejecutamos la celda correspondiente al apartado \"Visualizar data\". En este apartado podremos observar las estadísticas de cada modelo acompañado de un gráfico.\n",
        "\n",
        "\n",
        "\n",
        "\n"
      ]
    },
    {
      "cell_type": "markdown",
      "metadata": {
        "id": "paC5STGE8TEn"
      },
      "source": [
        "###Librerias y config"
      ]
    },
    {
      "cell_type": "code",
      "metadata": {
        "id": "43kA7AAd3EHE"
      },
      "source": [
        "import numpy as np\n",
        "import matplotlib.pyplot as plt\n",
        "import os\n",
        "import pandas as pd\n",
        "\n",
        "import sys\n",
        "np.set_printoptions(threshold=sys.maxsize)\n",
        "\n",
        "pd.options.display.max_columns = None\n",
        "pd.options.display.max_rows = None"
      ],
      "execution_count": null,
      "outputs": []
    },
    {
      "cell_type": "markdown",
      "metadata": {
        "id": "jJqj1p5s4Lcr"
      },
      "source": [
        "###Importar archivos"
      ]
    },
    {
      "cell_type": "code",
      "metadata": {
        "colab": {
          "resources": {
            "http://localhost:8080/nbextensions/google.colab/files.js": {
              "data": "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",
              "ok": true,
              "headers": [
                [
                  "content-type",
                  "application/javascript"
                ]
              ],
              "status": 200,
              "status_text": ""
            }
          },
          "base_uri": "https://localhost:8080/",
          "height": 141
        },
        "id": "7o3C64vs4K8p",
        "outputId": "5212969c-79a0-4e6b-b567-323f77063e08"
      },
      "source": [
        "from google.colab import files\n",
        "\n",
        "os.mkdir('Outputs')                                                             #Creamos la carpeta que contendrá los .txt\n",
        "OUTPUTS_FOLDER = os.path.join(os.getcwd(), \"Outputs\")                           #Creamos un string que contiene el directorio de la carpeta que hemos creado\n",
        "os.chdir(OUTPUTS_FOLDER)                                                        #Nos introducimos en el directorio de la carpeta \n",
        "files.upload()                                                                  #Subimos los archivos .txt\n",
        "os.chdir('..')                                                                  #Regresamos al directorio anterior"
      ],
      "execution_count": null,
      "outputs": [
        {
          "output_type": "display_data",
          "data": {
            "text/html": [
              "\n",
              "     <input type=\"file\" id=\"files-13428470-9f6c-4228-a864-9a10ad8bea1b\" name=\"files[]\" multiple disabled\n",
              "        style=\"border:none\" />\n",
              "     <output id=\"result-13428470-9f6c-4228-a864-9a10ad8bea1b\">\n",
              "      Upload widget is only available when the cell has been executed in the\n",
              "      current browser session. Please rerun this cell to enable.\n",
              "      </output>\n",
              "      <script src=\"/nbextensions/google.colab/files.js\"></script> "
            ],
            "text/plain": [
              "<IPython.core.display.HTML object>"
            ]
          },
          "metadata": {
            "tags": []
          }
        },
        {
          "output_type": "stream",
          "text": [
            "Saving cityblock_16.txt to cityblock_16.txt\n",
            "Saving cityblock_18.txt to cityblock_18.txt\n",
            "Saving cityblock_20.txt to cityblock_20.txt\n"
          ],
          "name": "stdout"
        }
      ]
    },
    {
      "cell_type": "markdown",
      "metadata": {
        "id": "3isdxwXs39IV"
      },
      "source": [
        "###Funciones auxiliares\n"
      ]
    },
    {
      "cell_type": "code",
      "metadata": {
        "id": "9IHIIiWkwzJi"
      },
      "source": [
        "def clean_list(list): \n",
        "  \"\"\"\n",
        "  A esta funcion le pasamos como argunmento una lista con los nombres de las \n",
        "  imagenes predecidas y devuelve otra lista con los IDs de las imaganes\n",
        "\n",
        "  Parameters\n",
        "  ----------\n",
        "  list: Una lista que contiene el nombre de las imagenes predecidas del estilo \"ukbench00692.jpg \"\n",
        "  \n",
        "  Returns\n",
        "  -------\n",
        "  new_list: Una lista que contiene las IDs de las imaganes predecidas del estilo \"692\"\n",
        "  \"\"\"\n",
        "  new_list = []\n",
        "  for element in list:                                                          #Por cada foto de la lista\n",
        "    new_element = int(element[7:12])                                            #Agarramos los digitos del 7 al 12 y lo casteamos como un int\n",
        "    new_list.append(new_element)\n",
        "  return new_list"
      ],
      "execution_count": null,
      "outputs": []
    },
    {
      "cell_type": "code",
      "metadata": {
        "id": "JNp5rc_gy-xm"
      },
      "source": [
        "def calc_precision_recall(query):\n",
        "  \"\"\"\n",
        "  A partir de una lista que contiene las predicciones de un modelo para una imagen, es capaz de generar una lista con los IDs de las 4 imagenes correctas\n",
        "  y generar una tabla con las estadisticas de precision/recall. El sistema entiende que como las predicciones estan\n",
        "  basadas en la distancia de una imagen a otra, la primera predicción es la de la imagen buscada ya que su distancia\n",
        "  es nula. A partir de este principio podemos obtener las otras 3 imaganes ya que en la base de datos las imaganes estan\n",
        "  ordenadas alfabeticamente y son consecutivas  \n",
        "\n",
        "  Parameters\n",
        "  ----------\n",
        "  query: Lista con las 10 predicciones que ha hecho el modelo para una query\n",
        "\n",
        "  Returns\n",
        "  -------\n",
        "  RESULTS: Numpy array de dimensiones 2x10 con las estadisticas de precision/recall para una query\n",
        "  \"\"\"\n",
        "  \n",
        "  CORRECT_ANSWERS = [int(query[0]/4)*4, int(query[0]/4)*4+1, int(query[0]/4)*4+2, int(query[0]/4)*4+3]\n",
        "  N_CORRECT = 0\n",
        "  PREDICTION_NUMBER = 1\n",
        "  \n",
        "  RESULTS = np.zeros([2, 10], dtype=np.float32)\n",
        "\n",
        "  for prediction in query:\n",
        "    if prediction in CORRECT_ANSWERS:\n",
        "      N_CORRECT += 1\n",
        "    \n",
        "    RESULTS[0][PREDICTION_NUMBER-1] = N_CORRECT/PREDICTION_NUMBER\n",
        "    RESULTS[1][PREDICTION_NUMBER-1] = N_CORRECT/4\n",
        "    \n",
        "    PREDICTION_NUMBER += 1\n",
        "  return RESULTS"
      ],
      "execution_count": null,
      "outputs": []
    },
    {
      "cell_type": "code",
      "metadata": {
        "id": "Im3GIz0t3LTx"
      },
      "source": [
        "def plot_precision_recall(list_of_MODEL_RESULTS, list_of_MODEL_NAMES, print_results = False):\n",
        "  \"\"\"\n",
        "  Esta función a partir de una lista que contiene las estadisticas de precision/recall de cada modelo es capaz de generar\n",
        "  una grafica\n",
        "\n",
        "  Parameters\n",
        "  ----------\n",
        "  list_of_MODEL_RESULTS: Una lista que contiene un Numpy array con las estadisticas precision/recall de \n",
        "  cada modelo\n",
        "  list_of_MODEL_NAMES: Una lista que contiene los nombres de cada modelo\n",
        "  print_results: Un Boolean para imprimir las tablas que contienen las estadisticas de cada modelo\n",
        "  Returns\n",
        "  -------\n",
        "\n",
        "  \"\"\"\n",
        "  n = np.arange(1, 11, 1)\n",
        "  colors = ['r', 'g', 'b', 'c', 'm', 'y', 'k', 'w'] \n",
        "  c = 0\n",
        "\n",
        "  for element in list_of_MODEL_RESULTS:\n",
        "    color_format = '.' + colors[c] + '-'\n",
        "    plt.plot(element[1], element[0], color_format, label = list_of_MODEL_NAMES[c])\n",
        "\n",
        "    for i, txt in enumerate(n):\n",
        "      plt.annotate(txt, (element[1][i], element[0][i]))\n",
        "    \n",
        "    if print_results:\n",
        "      df = pd.DataFrame(element, index = ['Precision', 'Recall'], columns = n)\n",
        "      #data_table.DataTable(dataframe=df)\n",
        "      print('Model: ' + list_of_MODEL_NAMES[c])\n",
        "      print(df)\n",
        "      print('------------------------------------------------------------------------------')\n",
        "\n",
        "    c += 1\n",
        "\n",
        "  plt.grid()\n",
        "  plt.xlim([0, 1])\n",
        "  plt.ylim([0, 1])\n",
        "  plt.legend()"
      ],
      "execution_count": null,
      "outputs": []
    },
    {
      "cell_type": "markdown",
      "metadata": {
        "id": "hUYi79T74OPS"
      },
      "source": [
        "###Visualizar data"
      ]
    },
    {
      "cell_type": "code",
      "metadata": {
        "id": "QaouKg_t4Sg1",
        "colab": {
          "base_uri": "https://localhost:8080/",
          "height": 426
        },
        "outputId": "9f70fac2-bd2f-4f1f-aeb0-5ceea3d883e1"
      },
      "source": [
        "N_PREDICTIONS = 10                                                              #Esta N es el numero de predicciones que genera cada modelo por query. Por el propio enunciado entregado en clase se entiende que este valor es 10\n",
        "PRINT_RESULTS = True                                                            #Si lo activamos el programa imprimirá las estadisticas de cada modelo\n",
        "\n",
        "MODEL_RESULTS_LIST = []\n",
        "MODEL_NAMES_LIST = []\n",
        "\n",
        "for file in os.listdir(OUTPUTS_FOLDER):                                         #Por cada archivo de la carpeta que contiene los resultados de cada modelo\n",
        "  if file.endswith(\".txt\"):                                                     #Primero comprobamos que el archivo es un .txt (A veces en el notebook me han aparecido archivos raros)\n",
        "    with open(os.path.join(OUTPUTS_FOLDER, file)) as myfile:                    #Falta el f.close()\n",
        "      MODEL_NAMES_LIST.append(file[:-4])                                        #Añadimos el nombre del archivo que se procesa a una lista\n",
        "      count = sum(1 for _ in myfile)                                            #Contamos el numero de filas que tiene el .txt\n",
        "      N_QUERYS = int((1+count)/12)                                              #para determinar el número de querys que contiene\n",
        "  \n",
        "      myfile.seek(0)\n",
        "\n",
        "      QUERY_PR_LIST = []\n",
        "\n",
        "      for query in range(N_QUERYS):                                             #Por cada query en el .txt\n",
        "        next(myfile)                                                            #Saltamos la primera linea\n",
        "        predictions = [next(myfile) for x in range(N_PREDICTIONS)]              #Guardamos las predicciones en una lista. Las predicciones son del estilo 'ukbench01702.jpg'\n",
        "        predictions = clean_list(predictions)                                   #Procesamos la lista que contiene las predicciones. Ahora esta lista contiene elementos del estilo '1702' \n",
        "        next(myfile)                                                            #Saltamos la ultima linea en blanco\n",
        "        QUERY_PR_LIST.append(calc_precision_recall(predictions))                #Añadimos las predicciones de esta query a una lista que contiene todas las predicciones de las querys que hace un modelo\n",
        "      \n",
        "      MODEL_RESULTS_LIST.append(np.average(QUERY_PR_LIST, axis = 0))            #A partir de la lista que contiene todas las estadisticas de precision/recall para cada query de un modelo calculamos la media de todas las querys para sacar las estadisticas generales del modelo \n",
        "      #print(len(QUERY_PR_LIST))                                                #Comment out para ver el numero de querys que esta procesando de cada modelo\n",
        "    myfile.close()\n",
        "#print(len(MODEL_RESULTS_LIST))                                                 #Comment out para comprobar el numero de modelos que estamos procesando\n",
        "\n",
        "plot_precision_recall(MODEL_RESULTS_LIST, MODEL_NAMES_LIST, PRINT_RESULTS)#A partir de la lista que contiene las estadisticas precision/recall de cada modelo generamos una grafica para comparar cada modelo"
      ],
      "execution_count": null,
      "outputs": [
        {
          "output_type": "stream",
          "text": [
            "Model: cityblock_16\n",
            "             1       2         3      4      5      6         7        8   \\\n",
            "Precision  1.00  0.7250  0.583333  0.475  0.420  0.350  0.314286  0.28125   \n",
            "Recall     0.25  0.3625  0.437500  0.475  0.525  0.525  0.550000  0.56250   \n",
            "\n",
            "                 9     10  \n",
            "Precision  0.261111  0.24  \n",
            "Recall     0.587500  0.60  \n",
            "------------------------------------------------------------------------------\n"
          ],
          "name": "stdout"
        },
        {
          "output_type": "display_data",
          "data": {
            "image/png": "[encoded data removed]",
            "text/plain": [
              "<Figure size 432x288 with 1 Axes>"
            ]
          },
          "metadata": {
            "tags": [],
            "needs_background": "light"
          }
        }
      ]
    }
  ]
}